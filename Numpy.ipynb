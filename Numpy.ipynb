{
  "metadata": {
    "kernelspec": {
      "name": "python",
      "display_name": "Python (Pyodide)",
      "language": "python"
    },
    "language_info": {
      "codemirror_mode": {
        "name": "python",
        "version": 3
      },
      "file_extension": ".py",
      "mimetype": "text/x-python",
      "name": "python",
      "nbconvert_exporter": "python",
      "pygments_lexer": "ipython3",
      "version": "3.8"
    }
  },
  "nbformat_minor": 4,
  "nbformat": 4,
  "cells": [
    {
      "cell_type": "code",
      "source": "# 1 Explain the purpose and advantages of NumPy in scientific computing and data analysis. How does it enhance Python's capabilities for numerical operations?",
      "metadata": {
        "trusted": true
      },
      "outputs": [],
      "execution_count": null
    },
    {
      "cell_type": "code",
      "source": "Purpose of NumPy\n\n    Efficient Multidimensional Arrays: NumPy provides the powerful ndarray object, which is a versatile n-dimensional array for handling large datasets. These arrays are more efficient and faster compared to Python's built-in lists.\n\n    Mathematical Functions: It includes a vast collection of mathematical functions to operate on arrays, making it easier to perform complex computations without the need for writing loops.\n\n    Linear Algebra: NumPy has built-in support for linear algebra, including operations like matrix multiplication, eigenvalue decomposition, and more.\n\n    Random Number Generation: The package includes tools for generating random numbers, which are essential for simulations and statistical methods.\n\nAdvantages of NumPy\n\n    Speed: NumPy operations are executed in C, making them much faster than native Python loops. This speed advantage is crucial for data-intensive tasks.\n\n    Memory Efficiency: The ndarray structure is more memory-efficient than lists. It stores data in contiguous blocks of memory, which reduces overhead.\n\n    Vectorization: NumPy allows vectorized operations, meaning you can apply a function to an entire array without writing explicit loops. This leads to more readable and concise code.\n\n    Interoperability: NumPy arrays can be used with a wide range of scientific and data analysis libraries, such as SciPy, pandas, and scikit-learn, creating a cohesive ecosystem for scientific computing.\n\n    Broadcasting: NumPy supports broadcasting, enabling arithmetic operations on arrays of different shapes. This simplifies coding by eliminating the need for manual reshaping of arrays.\n\nEnhancing Python's Capabilities\n\n    Numerical Efficiency: NumPy brings the computational efficiency of languages like C and Fortran to Python, making it suitable for heavy numerical tasks.\n\n    Ease of Use: With its intuitive syntax and powerful functions, NumPy makes complex numerical and scientific computations more accessible to users.\n\n    Community and Documentation: A strong community and extensive documentation support users in leveraging NumPy effectively, offering numerous tutorials, examples, and resources.",
      "metadata": {
        "trusted": true
      },
      "outputs": [],
      "execution_count": null
    },
    {
      "cell_type": "code",
      "source": "# 2 . Compare and contrast np.mean() and np.average() functions in NumPy. When would you use one over the other?",
      "metadata": {
        "trusted": true
      },
      "outputs": [],
      "execution_count": null
    },
    {
      "cell_type": "code",
      "source": "np.mean()\n\n    Function: np.mean(a, axis=None, dtype=None, out=None, keepdims=<no value>)\n\n    Purpose: Computes the arithmetic mean along the specified axis.\n\n    Usage: Use np.mean() when you need to calculate the simple arithmetic mean of an array or along a specific axis.\n\nnp.mean()\n\n    Function: np.mean(a, axis=None, dtype=None, out=None, keepdims=<no value>)\n\n    Purpose: Computes the arithmetic mean along the specified axis.\n\n    Usage: Use np.mean() when you need to calculate the simple arithmetic mean of an array or along a specific axis.\n\nnp.average()\n\n    Function: np.average(a, axis=None, weights=None, returned=False)\n\n    Purpose: Computes the weighted average along the specified axis.\n\n    Usage: Use np.average() when you need to calculate the weighted average of an array, considering different weights for different elements.",
      "metadata": {
        "trusted": true
      },
      "outputs": [],
      "execution_count": null
    },
    {
      "cell_type": "code",
      "source": "# 3 . Describe the methods for reversing a NumPy array along different axes. Provide examples for 1D and 2D arrays.",
      "metadata": {
        "trusted": true
      },
      "outputs": [],
      "execution_count": null
    },
    {
      "cell_type": "code",
      "source": "import numpy as np\n\n# Create a 1D array\narr_1d = np.array([1, 2, 3, 4, 5])\n\n# Reverse the array using slicing\nreversed_1d_slicing = arr_1d[::-1]\nprint(\"Reversed 1D array using slicing:\", reversed_1d_slicing)\n\n# Reverse the array using np.flip()\nreversed_1d_flip = np.flip(arr_1d)\nprint(\"Reversed 1D array using np.flip():\", reversed_1d_flip)\n\n# Create a 2D array\narr_2d = np.array([[1, 2, 3], [4, 5, 6], [7, 8, 9]])\n\n# Reverse the array using slicing\nreversed_2d_slicing = arr_2d[::-1, ::-1]\nprint(\"Reversed 2D array using slicing:\")\nprint(reversed_2d_slicing)\n\n# Reverse the array using np.flip()\nreversed_2d_flip = np.flip(arr_2d)\nprint(\"Reversed 2D array using np.flip():\")\nprint(reversed_2d_flip)\n# Reverse along axis 0 using slicing\nreversed_2d_axis0_slicing = arr_2d[::-1, :]\nprint(\"Reversed 2D array along axis 0 using slicing:\")\nprint(reversed_2d_axis0_slicing)\n\n# Reverse along axis 0 using np.flip()\nreversed_2d_axis0_flip = np.flip(arr_2d, axis=0)\nprint(\"Reversed 2D array along axis 0 using np.flip():\")\nprint(reversed_2d_axis0_flip)\n\n# Reverse along axis 1 using slicing\nreversed_2d_axis1_slicing = arr_2d[:, ::-1]\nprint(\"Reversed 2D array along axis 1 using slicing:\")\nprint(reversed_2d_axis1_slicing)\n\n# Reverse along axis 1 using np.flip()\nreversed_2d_axis1_flip = np.flip(arr_2d, axis=1)\nprint(\"Reversed 2D array along axis 1 using np.flip():\")\nprint(reversed_2d_axis1_flip)\n",
      "metadata": {
        "trusted": true
      },
      "outputs": [
        {
          "name": "stdout",
          "text": "Reversed 1D array using slicing: [5 4 3 2 1]\nReversed 1D array using np.flip(): [5 4 3 2 1]\nReversed 2D array using slicing:\n[[9 8 7]\n [6 5 4]\n [3 2 1]]\nReversed 2D array using np.flip():\n[[9 8 7]\n [6 5 4]\n [3 2 1]]\nReversed 2D array along axis 0 using slicing:\n[[7 8 9]\n [4 5 6]\n [1 2 3]]\nReversed 2D array along axis 0 using np.flip():\n[[7 8 9]\n [4 5 6]\n [1 2 3]]\nReversed 2D array along axis 1 using slicing:\n[[3 2 1]\n [6 5 4]\n [9 8 7]]\nReversed 2D array along axis 1 using np.flip():\n[[3 2 1]\n [6 5 4]\n [9 8 7]]\n",
          "output_type": "stream"
        }
      ],
      "execution_count": 1
    },
    {
      "cell_type": "code",
      "source": "# 4 How can you determine the data type of elements in a NumPy array? Discuss the importance of data types in memory management and performance",
      "metadata": {
        "trusted": true
      },
      "outputs": [],
      "execution_count": null
    },
    {
      "cell_type": "code",
      "source": "import numpy as np\n\n# Create a NumPy array\narr = np.array([1, 2, 3, 4, 5])\n\n# Determine the data type of elements\ndata_type = arr.dtype\nprint(\"Data type of elements:\", data_type)\n\nImportance of Data Types in Memory Management and Performance\n\n1. Memory Efficiency:\n\n    Compact Storage: Different data types have different memory footprints. For instance, int32 uses 4 bytes per element, while int64 uses 8 bytes per element. Choosing the appropriate data type can save memory, especially when dealing with large datasets.\n\n    Fixed Size: Unlike Python lists, where each element is an object with additional overhead, NumPy arrays store elements in contiguous memory blocks with fixed sizes. This reduces the memory overhead and allows efficient memory allocation and deallocation.\n\n2. Performance Optimization:\n\n    Vectorized Operations: NumPy arrays support vectorized operations, which means that mathematical operations are applied to entire arrays at once, rather than element by element. This is made possible by knowing the fixed data types of array elements, leading to faster execution.\n\n    Low-Level Optimizations: Operations on NumPy arrays are implemented in C and Fortran, leveraging low-level optimizations specific to data types. This results in significant performance improvements compared to native Python loops.\n\n    Alignment and Cache Utilization: Knowing the data type allows the compiler to optimize memory alignment and cache utilization, further enhancing performance.\n\n3. Type-Specific Functions:\n\n    Specialized Computations: Certain computations and algorithms are more efficient with specific data types. For example, some algorithms may benefit from using floating-point arithmetic (float32 or float64), while others may be optimized for integer arithmetic (int32 or int64).\n\n    Precision Control: Choosing the right data type allows control over the precision of calculations. For instance, float64 provides higher precision compared to float32, which is crucial for scientific computations.",
      "metadata": {
        "trusted": true
      },
      "outputs": [
        {
          "ename": "<class 'SyntaxError'>",
          "evalue": "invalid syntax (<ipython-input-2-918dba56899c>, line 10)",
          "traceback": [
            "\u001b[0;36m  Cell \u001b[0;32mIn[2], line 10\u001b[0;36m\u001b[0m\n\u001b[0;31m    Importance of Data Types in Memory Management and Performance\u001b[0m\n\u001b[0m               ^\u001b[0m\n\u001b[0;31mSyntaxError\u001b[0m\u001b[0;31m:\u001b[0m invalid syntax\n"
          ],
          "output_type": "error"
        }
      ],
      "execution_count": 2
    },
    {
      "cell_type": "code",
      "source": "# 5 Define ndarrays in NumPy and explain their key features. How do they differ from standard Python lists?\n",
      "metadata": {
        "trusted": true
      },
      "outputs": [],
      "execution_count": null
    },
    {
      "cell_type": "code",
      "source": "ndarray stands for N-dimensional array. It is the fundamental data structure in NumPy and represents a grid of values, all of the same type, indexed by a tuple of nonnegative integers.\nKey Features of ndarrays\n\n    Homogeneous Data Types: All elements in a NumPy array are of the same type, ensuring consistent behavior and efficient memory usage.\n\n    Multidimensional: NumPy arrays can have multiple dimensions (hence the name ndarray), allowing for the representation of complex data structures like matrices and tensors.\n\n    Fast and Efficient: Operations on NumPy arrays are implemented in C, making them much faster than equivalent operations on Python lists.\n\n    Vectorized Operations: NumPy supports vectorized operations, which means you can perform element-wise operations on arrays without explicit loops. This leads to more concise and readable code.\n\n    Broadcasting: NumPy arrays support broadcasting, which allows arithmetic operations on arrays of different shapes. This can simplify many operations and eliminate the need for manual reshaping.\n\n    Rich Functionality: NumPy provides a plethora of functions for array manipulation, including mathematical, statistical, and linear algebra operations.\n\nHow ndarrays Differ from Standard Python Lists\n\n    Homogeneity:\n\n        ndarrays: All elements must be of the same type.\n\n        Python Lists: Can contain elements of different types.\n\n    Performance:\n\n        ndarrays: Operations are faster due to the implementation in C and the use of contiguous memory blocks.\n\n        Python Lists: Slower as they involve more overhead and use pointers for each element.\n\n    Memory Efficiency:\n\n        ndarrays: More memory-efficient due to contiguous memory allocation and fixed-size elements.\n\n        Python Lists: Less memory-efficient due to the overhead associated with dynamic typing and pointers.\n\n    Vectorized Operations:\n\n        ndarrays: Support vectorized operations that apply functions to entire arrays at once.\n\n        Python Lists: Require explicit loops for element-wise operations.\n\n    Broadcasting:\n\n        ndarrays: Support broadcasting, allowing operations on arrays of different shapes.\n\n        Python Lists: Do not support broadcasting; manual handling is required.\n\n    Multidimensional:\n\n        ndarrays: Can represent multidimensional arrays with ease.\n\n        Python Lists: Multidimensional arrays are represented as lists of lists, which can be cumbersome to manage.\n                                                                                                                     \n  import numpy as np\n\n# Create a 2D array\narr = np.array([[1, 2, 3], [4, 5, 6]])\n\n# Perform a vectorized operation\nresult = arr + 10\nprint(result)\n\n\n # Create a 2D list\nlst = [[1, 2, 3], [4, 5, 6]]\n\n# Perform the same operation (requires explicit loops)\nresult = [[x + 10 for x in row] for row in lst]\nprint(result)\n                                                                                                                    ",
      "metadata": {
        "trusted": true
      },
      "outputs": [
        {
          "name": "stderr",
          "text": "Traceback (most recent call last):\n  File \"/lib/python3.12/site-packages/pyodide_kernel/kernel.py\", line 90, in run\n    code = await self.lite_transform_manager.transform_cell(code)\n           ^^^^^^^^^^^^^^^^^^^^^^^^^^^^^^^^^^^^^^^^^^^^^^^^^^^^^^\n  File \"/lib/python3.12/site-packages/pyodide_kernel/litetransform.py\", line 34, in transform_cell\n    lines = await self.do_token_transforms(lines)\n            ^^^^^^^^^^^^^^^^^^^^^^^^^^^^^^^^^^^^^\n  File \"/lib/python3.12/site-packages/pyodide_kernel/litetransform.py\", line 39, in do_token_transforms\n    changed, lines = await self.do_one_token_transform(lines)\n                     ^^^^^^^^^^^^^^^^^^^^^^^^^^^^^^^^^^^^^^^^\n  File \"/lib/python3.12/site-packages/pyodide_kernel/litetransform.py\", line 59, in do_one_token_transform\n    tokens_by_line = make_tokens_by_line(lines)\n                     ^^^^^^^^^^^^^^^^^^^^^^^^^^\n  File \"/lib/python3.12/site-packages/IPython/core/inputtransformer2.py\", line 535, in make_tokens_by_line\n    for token in tokenutil.generate_tokens_catch_errors(\n  File \"/lib/python3.12/site-packages/IPython/utils/tokenutil.py\", line 40, in generate_tokens_catch_errors\n    for token in tokenize.generate_tokens(readline):\n  File \"/lib/python312.zip/tokenize.py\", line 541, in _generate_tokens_from_c_tokenizer\n    raise e from None\n  File \"/lib/python312.zip/tokenize.py\", line 537, in _generate_tokens_from_c_tokenizer\n    for info in it:\n  File \"<string>\", line 54\n    import numpy as np\n                      ^\nIndentationError: unindent does not match any outer indentation level\n\nIf you suspect this is an IPython 8.23.0 bug, please report it at:\n    https://github.com/ipython/ipython/issues\nor send an email to the mailing list at ipython-dev@python.org\n\nYou can print a more detailed traceback right now with \"%tb\", or use \"%debug\"\nto interactively debug it.\n\nExtra-detailed tracebacks for bug-reporting purposes can be enabled via:\n    %config Application.verbose_crash=True\n\n",
          "output_type": "stream"
        }
      ],
      "execution_count": null
    },
    {
      "cell_type": "code",
      "source": "# 6 Analyze the performance benefits of NumPy arrays over Python lists for large-scale numerical operations.",
      "metadata": {
        "trusted": true
      },
      "outputs": [],
      "execution_count": null
    },
    {
      "cell_type": "code",
      "source": "1. Memory Efficiency\n2. Speed and Performance\n3. Reduced Python Overhead\n4. Rich Mathematical Functions\nimport numpy as np\nimport time\n\n# Create two large NumPy arrays\narr1 = np.arange(size)\narr2 = np.arange(size)\n\n# Measure the time for element-wise addition using NumPy arrays\nstart_time = time.time()\nresult = arr1 + arr2\nend_time = time.time()\nprint(\"Time taken using NumPy arrays:\", end_time - start_time, \"seconds\")\n",
      "metadata": {
        "trusted": true
      },
      "outputs": [
        {
          "ename": "<class 'SyntaxError'>",
          "evalue": "invalid syntax (<ipython-input-3-bde89b3909e6>, line 1)",
          "traceback": [
            "\u001b[0;36m  Cell \u001b[0;32mIn[3], line 1\u001b[0;36m\u001b[0m\n\u001b[0;31m    1. Memory Efficiency\u001b[0m\n\u001b[0m       ^\u001b[0m\n\u001b[0;31mSyntaxError\u001b[0m\u001b[0;31m:\u001b[0m invalid syntax\n"
          ],
          "output_type": "error"
        }
      ],
      "execution_count": 4
    },
    {
      "cell_type": "code",
      "source": "# 7 . Compare vstack() and hstack() functions in NumPy. Provide examples demonstrating their usage and output.\n",
      "metadata": {
        "trusted": true
      },
      "outputs": [],
      "execution_count": null
    },
    {
      "cell_type": "code",
      "source": "vstack()\n\n    Purpose: Stacks arrays in sequence vertically (row-wise).\n\n    Behavior: It requires that the arrays have the same number of columns (or second dimension).\nimport numpy as np\n\n# Create two 1D arrays\narr1 = np.array([1, 2, 3])\narr2 = np.array([4, 5, 6])\n\n# Vertical stacking\nresult_vstack = np.vstack((arr1, arr2))\nprint(\"Vertical Stacking (vstack):\")\nprint(result_vstack)\nVertical Stacking (vstack):\n[[1 2 3]\n [4 5 6]]\nhstack()\n\n    Purpose: Stacks arrays in sequence horizontally (column-wise).\n\n    Behavior: It requires that the arrays have the same number of rows (or first dimension).\nimport numpy as np\n\n# Create two 1D arrays\narr1 = np.array([1, 2, 3])\narr2 = np.array([4, 5, 6])\n\n# Horizontal stacking\nresult_hstack = np.hstack((arr1, arr2))\nprint(\"Horizontal Stacking (hstack):\")\nprint(result_hstack)\nHorizontal Stacking (hstack):\n[1 2 3 4 5 6]\n",
      "metadata": {
        "trusted": true
      },
      "outputs": [
        {
          "ename": "<class 'IndentationError'>",
          "evalue": "unexpected indent (<ipython-input-4-e6750f9476bf>, line 3)",
          "traceback": [
            "\u001b[0;36m  Cell \u001b[0;32mIn[4], line 3\u001b[0;36m\u001b[0m\n\u001b[0;31m    Purpose: Stacks arrays in sequence vertically (row-wise).\u001b[0m\n\u001b[0m    ^\u001b[0m\n\u001b[0;31mIndentationError\u001b[0m\u001b[0;31m:\u001b[0m unexpected indent\n"
          ],
          "output_type": "error"
        }
      ],
      "execution_count": 5
    },
    {
      "cell_type": "code",
      "source": "# 8 Explain the differences between fliplr() and flipud() methods in NumPy, including their effects on various array dimensions.\n",
      "metadata": {
        "trusted": true
      },
      "outputs": [],
      "execution_count": null
    },
    {
      "cell_type": "code",
      "source": "fliplr()\n\n    Purpose: Flips the array in the left-right direction (horizontal flip).\n\n    Behavior: Reverses the order of columns in a 2D array.\n\n    Applicable: Works on arrays with at least two dimensions.\n        \nflipud()\n\n    Purpose: Flips the array in the up-down direction (vertical flip).\n\n    Behavior: Reverses the order of rows in a 2D array.\n\n    Applicable: Works on arrays with at least one dimension.",
      "metadata": {
        "trusted": true
      },
      "outputs": [],
      "execution_count": null
    },
    {
      "cell_type": "code",
      "source": "# 9  Discuss the functionality of the array_split() method in NumPy. How does it handle uneven splits?\n",
      "metadata": {
        "trusted": true
      },
      "outputs": [],
      "execution_count": null
    },
    {
      "cell_type": "code",
      "source": "Functionality of array_split()\nnumpy.array_split(ary, indices_or_sections, axis=0)\n\nExample 1: Splitting Evenly\nimport numpy as np\n\n# Create an array\narr = np.array([1, 2, 3, 4, 5, 6])\n\n# Split the array into 3 equal parts\nresult = np.array_split(arr, 3)\nprint(\"Even split:\")\nfor sub_arr in result:\n    print(sub_arr)\nExample 2: Handling Uneven Splits\nimport numpy as np\n\n# Create an array\narr = np.array([1, 2, 3, 4, 5, 6, 7])\n\n# Split the array into 3 parts (uneven split)\nresult = np.array_split(arr, 3)\nprint(\"Uneven split:\")\nfor sub_arr in result:\n    print(sub_arr)\n\n\n",
      "metadata": {
        "trusted": true
      },
      "outputs": [
        {
          "ename": "<class 'SyntaxError'>",
          "evalue": "invalid syntax (<ipython-input-6-26507fbfc28c>, line 1)",
          "traceback": [
            "\u001b[0;36m  Cell \u001b[0;32mIn[6], line 1\u001b[0;36m\u001b[0m\n\u001b[0;31m    Functionality of array_split()\u001b[0m\n\u001b[0m                  ^\u001b[0m\n\u001b[0;31mSyntaxError\u001b[0m\u001b[0;31m:\u001b[0m invalid syntax\n"
          ],
          "output_type": "error"
        }
      ],
      "execution_count": 7
    },
    {
      "cell_type": "code",
      "source": "# 10. . Explain the concepts of vectorization and broadcasting in NumPy. How do they contribute to efficient array operations",
      "metadata": {
        "trusted": true
      },
      "outputs": [],
      "execution_count": null
    },
    {
      "cell_type": "code",
      "source": "Concept: Vectorization refers to the process of applying operations to entire arrays or large chunks of data at once, rather than using explicit loops to operate on individual elements. \n\nimport numpy as np\n\n# Create two large arrays\narr1 = np.arange(1e7)\narr2 = np.arange(1e7, 2e7)\n\n# Vectorized addition\nresult = arr1 + arr2\n\nBroadcasting\n\nConcept: Broadcasting is a mechanism that allows NumPy to perform arithmetic operations on arrays of different shapes\n\nimport numpy as np\n\n# Create an array and a scalar\narr = np.array([[1, 2, 3], [4, 5, 6]])\nscalar = 10\n\n# Broadcasting addition\nresult = arr + scalar\n\n Contribute to Efficient Array Operations\nReduced Overhead\nParallelism\nConciseness\nMemory Efficiency\n",
      "metadata": {
        "trusted": true
      },
      "outputs": [
        {
          "ename": "<class 'SyntaxError'>",
          "evalue": "invalid syntax (<ipython-input-7-44b484199ba3>, line 1)",
          "traceback": [
            "\u001b[0;36m  Cell \u001b[0;32mIn[7], line 1\u001b[0;36m\u001b[0m\n\u001b[0;31m    Concept: Vectorization refers to the process of applying operations to entire arrays or large chunks of data at once, rather than using explicit loops to operate on individual elements.\u001b[0m\n\u001b[0m                           ^\u001b[0m\n\u001b[0;31mSyntaxError\u001b[0m\u001b[0;31m:\u001b[0m invalid syntax\n"
          ],
          "output_type": "error"
        }
      ],
      "execution_count": 8
    },
    {
      "cell_type": "code",
      "source": "#                Practical ",
      "metadata": {
        "trusted": true
      },
      "outputs": [],
      "execution_count": null
    },
    {
      "cell_type": "code",
      "source": "# 1 . Create a 3x3 NumPy array with random integers between 1 and 100. Then, interchange its rows and columns.",
      "metadata": {
        "trusted": true
      },
      "outputs": [],
      "execution_count": null
    },
    {
      "cell_type": "code",
      "source": "import numpy as np\n\n# Create a 3x3 array with random integers between 1 and 100\nnp.random.seed(42)  # For reproducibility\narray_3x3 = np.random.randint(1, 101, (3, 3))\nprint(\"Original 3x3 array:\")\nprint(array_3x3)\n\n# Transpose the array (interchange rows and columns)\ntransposed_array = np.transpose(array_3x3)\nprint(\"\\nTransposed array:\")\nprint(transposed_array)\n",
      "metadata": {
        "trusted": true
      },
      "outputs": [
        {
          "name": "stdout",
          "text": "Original 3x3 array:\n[[52 93 15]\n [72 61 21]\n [83 87 75]]\n\nTransposed array:\n[[52 72 83]\n [93 61 87]\n [15 21 75]]\n",
          "output_type": "stream"
        }
      ],
      "execution_count": 1
    },
    {
      "cell_type": "code",
      "source": "# 2 Generate a 1D NumPy array with 10 elements. Reshape it into a 2x5 array, then into a 5x2 array",
      "metadata": {
        "trusted": true
      },
      "outputs": [],
      "execution_count": null
    },
    {
      "cell_type": "code",
      "source": "import numpy as np\n\n# Generate a 1D NumPy array with 10 elements\narray_1d = np.arange(10)\nprint(\"Original 1D array:\")\nprint(array_1d)\n\n# Reshape the array into a 2x5 array\narray_2x5 = array_1d.reshape((2, 5))\nprint(\"\\nReshaped into 2x5 array:\")\nprint(array_2x5)\n\n# Reshape the array into a 5x2 array\narray_5x2 = array_2x5.reshape((5, 2))\nprint(\"\\nReshaped into 5x2 array:\")\nprint(array_5x2)\n",
      "metadata": {
        "trusted": true
      },
      "outputs": [
        {
          "name": "stdout",
          "text": "Original 1D array:\n[0 1 2 3 4 5 6 7 8 9]\n\nReshaped into 2x5 array:\n[[0 1 2 3 4]\n [5 6 7 8 9]]\n\nReshaped into 5x2 array:\n[[0 1]\n [2 3]\n [4 5]\n [6 7]\n [8 9]]\n",
          "output_type": "stream"
        }
      ],
      "execution_count": 2
    },
    {
      "cell_type": "code",
      "source": "# 3 Create a 4x4 NumPy array with random float values. Add a border of zeros around it, resulting in a 6x6 array.",
      "metadata": {
        "trusted": true
      },
      "outputs": [],
      "execution_count": null
    },
    {
      "cell_type": "code",
      "source": "import numpy as np\n\n# Create a 4x4 array with random float values\nnp.random.seed(42)  # For reproducibility\narray_4x4 = np.random.rand(4, 4)\nprint(\"Original 4x4 array:\")\nprint(array_4x4)\n\n# Add a border of zeros around the 4x4 array to form a 6x6 array\narray_6x6 = np.pad(array_4x4, pad_width=1, mode='constant', constant_values=0)\nprint(\"\\n6x6 array with a border of zeros:\")\nprint(array_6x6)\n",
      "metadata": {
        "trusted": true
      },
      "outputs": [
        {
          "name": "stdout",
          "text": "Original 4x4 array:\n[[0.37454012 0.95071431 0.73199394 0.59865848]\n [0.15601864 0.15599452 0.05808361 0.86617615]\n [0.60111501 0.70807258 0.02058449 0.96990985]\n [0.83244264 0.21233911 0.18182497 0.18340451]]\n\n6x6 array with a border of zeros:\n[[0.         0.         0.         0.         0.         0.        ]\n [0.         0.37454012 0.95071431 0.73199394 0.59865848 0.        ]\n [0.         0.15601864 0.15599452 0.05808361 0.86617615 0.        ]\n [0.         0.60111501 0.70807258 0.02058449 0.96990985 0.        ]\n [0.         0.83244264 0.21233911 0.18182497 0.18340451 0.        ]\n [0.         0.         0.         0.         0.         0.        ]]\n",
          "output_type": "stream"
        }
      ],
      "execution_count": 3
    },
    {
      "cell_type": "code",
      "source": "# 4 Using NumPy, create an array of integers from 10 to 60 with a step of 5.",
      "metadata": {
        "trusted": true
      },
      "outputs": [],
      "execution_count": null
    },
    {
      "cell_type": "code",
      "source": "import numpy as np\n\n# Create the array\narray = np.arange(10, 65, 5)\nprint(array)\n",
      "metadata": {
        "trusted": true
      },
      "outputs": [
        {
          "name": "stdout",
          "text": "[10 15 20 25 30 35 40 45 50 55 60]\n",
          "output_type": "stream"
        }
      ],
      "execution_count": 4
    },
    {
      "cell_type": "code",
      "source": "# 5  Create a NumPy array of strings ['python', 'numpy', 'pandas']. Apply different case transformations (uppercase, lowercase, title case, etc.) to each element",
      "metadata": {
        "trusted": true
      },
      "outputs": [],
      "execution_count": null
    },
    {
      "cell_type": "code",
      "source": "import numpy as np\n\n# Create a NumPy array of strings\narray = np.array(['python', 'numpy', 'pandas'])\n\n# Apply different case transformations\nuppercase_array = np.char.upper(array)\nlowercase_array = np.char.lower(array)\ntitlecase_array = np.char.title(array)\n\n# Display the results\nprint(\"Original array:\", array)\nprint(\"Uppercase:\", uppercase_array)\nprint(\"Lowercase:\", lowercase_array)\nprint(\"Title case:\", titlecase_array)\n",
      "metadata": {
        "trusted": true
      },
      "outputs": [
        {
          "name": "stdout",
          "text": "Original array: ['python' 'numpy' 'pandas']\nUppercase: ['PYTHON' 'NUMPY' 'PANDAS']\nLowercase: ['python' 'numpy' 'pandas']\nTitle case: ['Python' 'Numpy' 'Pandas']\n",
          "output_type": "stream"
        }
      ],
      "execution_count": 6
    },
    {
      "cell_type": "code",
      "source": "# 6 Generate a NumPy array of words. Insert a space between each character of every word in the array.\n",
      "metadata": {
        "trusted": true
      },
      "outputs": [],
      "execution_count": null
    },
    {
      "cell_type": "code",
      "source": "import numpy as np\n\n# Create a NumPy array of words\nwords = np.array(['python', 'numpy', 'pandas'])\n\n# Function to insert space between characters\ndef insert_spaces(word):\n    return ' '.join(word)\n\n# Apply the function to each element in the array\nspaced_words = np.vectorize(insert_spaces)(words)\n\n# Display the results\nprint(\"Original array:\", words)\nprint(\"Array with spaces between characters:\", spaced_words)\n",
      "metadata": {
        "trusted": true
      },
      "outputs": [
        {
          "name": "stdout",
          "text": "Original array: ['python' 'numpy' 'pandas']\nArray with spaces between characters: ['p y t h o n' 'n u m p y' 'p a n d a s']\n",
          "output_type": "stream"
        }
      ],
      "execution_count": 7
    },
    {
      "cell_type": "code",
      "source": "# 7  Create two 2D NumPy arrays and perform element-wise addition, subtraction, multiplication, and division.\n",
      "metadata": {
        "trusted": true
      },
      "outputs": [],
      "execution_count": null
    },
    {
      "cell_type": "code",
      "source": "import numpy as np\n\n# Create two 2D arrays\narray1 = np.array([[1, 2, 3], [4, 5, 6], [7, 8, 9]])\narray2 = np.array([[9, 8, 7], [6, 5, 4], [3, 2, 1]])\n\n# Perform element-wise addition\naddition = array1 + array2\nprint(\"Element-wise addition:\")\nprint(addition)\n\n# Perform element-wise subtraction\nsubtraction = array1 - array2\nprint(\"\\nElement-wise subtraction:\")\nprint(subtraction)\n\n# Perform element-wise multiplication\nmultiplication = array1 * array2\nprint(\"\\nElement-wise multiplication:\")\nprint(multiplication)\n\n# Perform element-wise division\ndivision = array1 / array2\nprint(\"\\nElement-wise division:\")\nprint(division)\n",
      "metadata": {
        "trusted": true
      },
      "outputs": [
        {
          "name": "stdout",
          "text": "Element-wise addition:\n[[10 10 10]\n [10 10 10]\n [10 10 10]]\n\nElement-wise subtraction:\n[[-8 -6 -4]\n [-2  0  2]\n [ 4  6  8]]\n\nElement-wise multiplication:\n[[ 9 16 21]\n [24 25 24]\n [21 16  9]]\n\nElement-wise division:\n[[0.11111111 0.25       0.42857143]\n [0.66666667 1.         1.5       ]\n [2.33333333 4.         9.        ]]\n",
          "output_type": "stream"
        }
      ],
      "execution_count": 8
    },
    {
      "cell_type": "code",
      "source": "# 8 Use NumPy to create a 5x5 identity matrix, then extract its diagonal elements.",
      "metadata": {
        "trusted": true
      },
      "outputs": [],
      "execution_count": null
    },
    {
      "cell_type": "code",
      "source": "import numpy as np\n\n# Create a 5x5 identity matrix\nidentity_matrix = np.eye(5)\nprint(\"5x5 Identity Matrix:\")\nprint(identity_matrix)\n\n# Extract the diagonal elements\ndiagonal_elements = np.diag(identity_matrix)\nprint(\"\\nDiagonal Elements:\")\nprint(diagonal_elements)\n",
      "metadata": {
        "trusted": true
      },
      "outputs": [
        {
          "name": "stdout",
          "text": "5x5 Identity Matrix:\n[[1. 0. 0. 0. 0.]\n [0. 1. 0. 0. 0.]\n [0. 0. 1. 0. 0.]\n [0. 0. 0. 1. 0.]\n [0. 0. 0. 0. 1.]]\n\nDiagonal Elements:\n[1. 1. 1. 1. 1.]\n",
          "output_type": "stream"
        }
      ],
      "execution_count": 9
    },
    {
      "cell_type": "code",
      "source": "# 9 Generate a NumPy array of 100 random integers between 0 and 1000. Find and display all prime numbers in this array",
      "metadata": {
        "trusted": true
      },
      "outputs": [],
      "execution_count": null
    },
    {
      "cell_type": "code",
      "source": "import numpy as np\n\n# Function to check if a number is prime\ndef is_prime(n):\n    if n <= 1:\n        return False\n    for i in range(2, int(np.sqrt(n)) + 1):\n        if n % i == 0:\n            return False\n    return True\n\n# Generate a NumPy array of 100 random integers between 0 and 1000\nnp.random.seed(42)  # For reproducibility\nrandom_integers = np.random.randint(0, 1001, 100)\nprint(\"Array of random integers:\")\nprint(random_integers)\n\n# Find and display all prime numbers in the array\nprime_numbers = [num for num in random_integers if is_prime(num)]\nprint(\"\\nPrime numbers in the array:\")\nprint(prime_numbers)\n",
      "metadata": {
        "trusted": true
      },
      "outputs": [
        {
          "name": "stdout",
          "text": "Array of random integers:\n[102 435 860 270 106  71 700  20 614 121 466 214 330 458  87 372  99 871\n 663 130 661 308 769 343 491 413 805 385 191 955 276 160 459 313  21 252\n 747 856 560 474  58 510 681 475 699 975 782 189 957 686 957 562 875 566\n 243 831 504 130 484 818 646  20 840 166 273 387 600 315  13 241 776 345\n 564 897 339  91 366 955 454 427 508 775 942  34 205  80 931 561 871 387\n   1 389 565 105 771 821 476 702 401 729]\n\nPrime numbers in the array:\n[71, 661, 769, 491, 191, 313, 13, 241, 389, 821, 401]\n",
          "output_type": "stream"
        }
      ],
      "execution_count": 10
    },
    {
      "cell_type": "code",
      "source": "# 10  Create a NumPy array representing daily temperatures for a month. Calculate and display the weekly averages.",
      "metadata": {
        "trusted": true
      },
      "outputs": [],
      "execution_count": null
    },
    {
      "cell_type": "code",
      "source": "import numpy as np\n\n# Generate a NumPy array representing daily temperatures for a month (30 days)\nnp.random.seed(42)  # For reproducibility\ndaily_temperatures = np.random.randint(20, 40, 30)\nprint(\"Daily temperatures for a month:\")\nprint(daily_temperatures)\n\n# Calculate weekly averages\n# We assume the month has exactly 4 weeks (30 days total, with each week being 7 days except the last one with 9 days)\nweek1_avg = np.mean(daily_temperatures[:7])\nweek2_avg = np.mean(daily_temperatures[7:14])\nweek3_avg = np.mean(daily_temperatures[14:21])\nweek4_avg = np.mean(daily_temperatures[21:30])  # Last week may have fewer days\n\nweekly_averages = [week1_avg, week2_avg, week3_avg, week4_avg]\nprint(\"\\nWeekly averages:\")\nfor i, avg in enumerate(weekly_averages, start=1):\n    print(f\"Week {i} average temperature: {avg:.2f}\")\n",
      "metadata": {
        "trusted": true
      },
      "outputs": [
        {
          "name": "stdout",
          "text": "Daily temperatures for a month:\n[26 39 34 30 27 26 38 30 30 23 27 22 21 31 25 21 20 31 31 36 29 35 34 34\n 38 31 39 22 24 38]\n\nWeekly averages:\nWeek 1 average temperature: 31.43\nWeek 2 average temperature: 26.29\nWeek 3 average temperature: 27.57\nWeek 4 average temperature: 32.78\n",
          "output_type": "stream"
        }
      ],
      "execution_count": 11
    },
    {
      "cell_type": "code",
      "source": "",
      "metadata": {
        "trusted": true
      },
      "outputs": [],
      "execution_count": null
    }
  ]
}